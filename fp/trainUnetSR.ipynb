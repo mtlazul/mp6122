{
 "cells": [
  {
   "cell_type": "code",
   "execution_count": null,
   "metadata": {},
   "outputs": [],
   "source": [
    "\n"
   ]
  },
  {
   "cell_type": "markdown",
   "metadata": {},
   "source": [
    "pixelwise segmentation autoencoder + shape convolution auto encoder\n",
    " \n",
    "Advantage of explicitly modeling shape: \n",
    "1) Generalization to appearance devia-tions from the training data\n",
    "2) Data augmentation\n",
    "\n",
    "Key contributions:\n",
    "1) Learning a non-linear shape model and projection of arbitrary masks to theshape manifold space. We also discuss two novel data augmentation strategies to implement a shape convolution auto encoder.\n",
    "2) Incorporating the shape model explicitly in a FCN formulation through anovel loss function that penalizes deviation of the predicted segmentation maskfrom a learnt shape model.\n",
    "\n",
    "\n",
    "Shape regularization inside FCN and not as a post-processing \n",
    "Generic formulation that can be appended to other geometry or topology priors\n",
    "two data augmentation strategies\n",
    "\n",
    "Loss = mse(d(seg,seg_enc_dec), d(seg_enc,gnd_enc), d(seg,gnd)) lamda 0.5\n",
    "\n",
    "cascade of two FCNs:\n",
    "1) Unet (segmentation)\n",
    "2) Unet - concatenation connections (shape regularization)\n",
    "\n",
    "Segmentation\n",
    "10 layers 5enc-5dec\n",
    "relu activation\n",
    "batch normalization regularization\n",
    "\n",
    "shape regularization network pre-training:\n",
    "    inaccurate shapes as input and ground truth masks as the output.\n",
    "    two data segmentation strategies for creating these incomplete shapes:\n",
    "    a) Random corruption of shapes: random points + erode\n",
    "    b) Intermediate U-Net predictions: sample the U-Net predictions before  convergence"
   ]
  },
  {
   "cell_type": "code",
   "execution_count": null,
   "metadata": {},
   "outputs": [],
   "source": []
  },
  {
   "cell_type": "code",
   "execution_count": null,
   "metadata": {},
   "outputs": [],
   "source": []
  }
 ],
 "metadata": {
  "kernelspec": {
   "display_name": "Python 3",
   "language": "python",
   "name": "python3"
  },
  "language_info": {
   "codemirror_mode": {
    "name": "ipython",
    "version": 3
   },
   "file_extension": ".py",
   "mimetype": "text/x-python",
   "name": "python",
   "nbconvert_exporter": "python",
   "pygments_lexer": "ipython3",
   "version": "3.6.8"
  }
 },
 "nbformat": 4,
 "nbformat_minor": 2
}
